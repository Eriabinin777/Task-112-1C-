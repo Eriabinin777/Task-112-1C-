{
  "nbformat": 4,
  "nbformat_minor": 0,
  "metadata": {
    "colab": {
      "name": "Matrix.ipynb",
      "provenance": [],
      "collapsed_sections": []
    },
    "kernelspec": {
      "name": "python3",
      "display_name": "Python 3"
    },
    "language_info": {
      "name": "python"
    }
  },
  "cells": [
    {
      "cell_type": "code",
      "source": [
        "# Main imports\n",
        "import cv2\n",
        "import numpy as np"
      ],
      "metadata": {
        "id": "jd_Sfi6CsB9Y"
      },
      "execution_count": 60,
      "outputs": []
    },
    {
      "cell_type": "code",
      "source": [
        "# Reading image and template from txt files\n",
        "\n",
        "image = np.loadtxt('image.txt', dtype=np.uint8)\n",
        "\n",
        "template = np.loadtxt('template.txt', dtype=np.uint8)"
      ],
      "metadata": {
        "id": "iysEr9Ta48L_"
      },
      "execution_count": 61,
      "outputs": []
    },
    {
      "cell_type": "code",
      "source": [
        "# Running OpenCV functions to get coordinates of left top corner of template on image\n",
        "\n",
        "res = cv2.matchTemplate(image, template, cv2.TM_SQDIFF)\n",
        "\n",
        "min_val, max_val, min_loc, max_loc = cv2.minMaxLoc(res)\n",
        "\n",
        "print(\"Координаты левого верхнего угла картинки по оси x:\", min_loc[0], \", по оси y:\", min_loc[1])"
      ],
      "metadata": {
        "colab": {
          "base_uri": "https://localhost:8080/"
        },
        "id": "XmHZuBtJv91U",
        "outputId": "2cec4ca1-18d0-4e2a-983d-e510e202e3fa"
      },
      "execution_count": 62,
      "outputs": [
        {
          "output_type": "stream",
          "name": "stdout",
          "text": [
            "Координаты левого верхнего угла картинки по оси x: 5 , по оси y: 3\n"
          ]
        }
      ]
    }
  ]
}